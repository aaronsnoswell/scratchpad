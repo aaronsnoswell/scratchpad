{
 "cells": [
  {
   "cell_type": "markdown",
   "metadata": {},
   "source": [
    "\n",
    "# Testing for holonomic behaviour\n",
    "\n",
    "Given a set of motion trajectories, how can we determine if the motion is holonomic or not?\n"
   ]
  },
  {
   "cell_type": "code",
   "execution_count": null,
   "metadata": {},
   "outputs": [],
   "source": [
    "\n",
    "# Get imports\n",
    "import pandas as pd\n",
    "import numpy as np\n",
    "import matplotlib.pyplot as plt\n",
    "from mpl_toolkits.mplot3d import Axes3D\n",
    "import seaborn as sns\n",
    "\n",
    "# Request high dpi, inline figures\n",
    "import matplotlib as mpl\n",
    "%matplotlib inline\n",
    "mpl.rcParams['figure.dpi'] = 200\n"
   ]
  },
  {
   "cell_type": "code",
   "execution_count": null,
   "metadata": {},
   "outputs": [],
   "source": [
    "\n",
    "# Generate sample data\n",
    "\n",
    "def get_holonomic_traj(num_steps=10000):\n",
    "    \"\"\"Generate a holonomic trajectory (a random walk)\"\"\"\n",
    "    traj = np.array([[0, 0]])\n",
    "    for t in range(num_steps):\n",
    "        s = traj[-1, :]\n",
    "        traj = np.vstack((traj, s + np.random.normal(size=2)))\n",
    "    return traj\n",
    "\n",
    "def get_nonholonomic_traj(num_steps=10000):\n",
    "    \"\"\"Generate a non-holonomic dataset (a biased random walk)\"\"\"\n",
    "    traj = np.array([[0, 0]])\n",
    "    v = np.array([[0, 0]], dtype=float)\n",
    "    a = np.array([[0, 0]], dtype=float)\n",
    "    for t in range(num_steps):\n",
    "        s = traj[-1, :]\n",
    "        a = np.random.normal(size=2, scale=0.001)\n",
    "        v += a\n",
    "        traj = np.vstack((traj, s + v))\n",
    "        \n",
    "    return traj\n",
    "\n",
    "t_hol = get_holonomic_traj()\n",
    "t_nonhol = get_nonholonomic_traj()\n",
    "\n",
    "# Visualise trajectories\n",
    "plt.figure(figsize=(9, 9))\n",
    "plt.plot(t_hol[:, 0], t_hol[:, 1], '-', lw=1, label='Holonomic')\n",
    "plt.plot(t_nonhol[:, 0], t_nonhol[:, 1], '-', lw=1, label='Non-Holonomic')\n",
    "plt.legend()\n",
    "plt.grid()\n",
    "plt.xlabel(\"x\")\n",
    "plt.ylabel(\"y\")\n",
    "plt.title(\"Trajectories\")\n",
    "plt.axis(\"square\")\n",
    "plt.show()\n",
    "plt.close()\n"
   ]
  },
  {
   "cell_type": "markdown",
   "metadata": {},
   "source": [
    "\n",
    "One test is to look at the distribution of angles between subsequent velocity vectors;\n"
   ]
  },
  {
   "cell_type": "code",
   "execution_count": null,
   "metadata": {},
   "outputs": [],
   "source": [
    "\n",
    "# Get inter-velocity angle vectors\n",
    "\n",
    "# Lambda to get inter-velocity angles\n",
    "theta = lambda v: np.arccos(\n",
    "    np.diag(v[:-1] @ v[1:].T) /\n",
    "    (np.linalg.norm(v[:-1], axis=1) * np.linalg.norm(v[1:], axis=1))\n",
    ")\n",
    "\n",
    "theta_hol = theta(np.diff(t_hol, axis=0))\n",
    "theta_nonhol = theta(np.diff(t_nonhol, axis=0))\n",
    "\n",
    "# Plat angle distributions\n",
    "\n",
    "plt.figure(figsize=(9, 9))\n",
    "fig, (ax1, ax2) = plt.subplots(2, 1,sharex=True, figsize=(9, 9), gridspec_kw=dict(hspace=0.05))\n",
    "ax1.set_title(\"Distribution of inter-velocity angles\")\n",
    "h1 = ax1.hist(\n",
    "    np.rad2deg(theta_hol),\n",
    "    bins=np.linspace(0, 180, 40),\n",
    "    density=True,\n",
    "    alpha=0.5,\n",
    "    color='C1',\n",
    "    label='Holonomic'\n",
    ")\n",
    "ax1.grid()\n",
    "ax1.set_xlim((0, 180))\n",
    "h2 = ax2.hist(\n",
    "    np.rad2deg(theta_nonhol),\n",
    "    bins=np.linspace(0, 180, 40),\n",
    "    density=True,\n",
    "    alpha=0.5,\n",
    "    color='C0',\n",
    "    label='Non-Holonomic'\n",
    ")\n",
    "ax2.grid()\n",
    "ax2.set_xlabel(r\"$\\theta$\")\n",
    "ax2.legend(handles=[h1[2][0], h2[2][0]])\n",
    "plt.show()\n"
   ]
  },
  {
   "cell_type": "markdown",
   "metadata": {},
   "source": [
    "\n",
    "The second histogram is highly skewed (it appears log-normal), indicating that the motion corresponding to that distribution is not holonomic.\n",
    "We numerically evaluate  the quality of a lognormal fit using `scipy.stats.lognorm.fit()` etc.\n"
   ]
  }
 ],
 "metadata": {
  "kernelspec": {
   "display_name": "Python 3",
   "language": "python",
   "name": "python3"
  },
  "language_info": {
   "codemirror_mode": {
    "name": "ipython",
    "version": 3
   },
   "file_extension": ".py",
   "mimetype": "text/x-python",
   "name": "python",
   "nbconvert_exporter": "python",
   "pygments_lexer": "ipython3",
   "version": "3.6.6"
  }
 },
 "nbformat": 4,
 "nbformat_minor": 2
}
